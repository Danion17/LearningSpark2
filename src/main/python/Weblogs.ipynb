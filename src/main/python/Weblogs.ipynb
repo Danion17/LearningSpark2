{
 "cells": [
  {
   "cell_type": "markdown",
   "id": "a4ab866e-b534-44a2-ae99-6c7ad0b1c666",
   "metadata": {},
   "source": [
    "# Nasa weblogs exercises:"
   ]
  },
  {
   "cell_type": "code",
   "execution_count": 2,
   "id": "9ece1972-c202-4e56-aabf-3d4dee1462fb",
   "metadata": {},
   "outputs": [],
   "source": [
    "#imports:\n",
    "from pyspark.sql.types import *\n",
    "from pyspark.sql import SparkSession\n",
    "from pyspark.sql.functions import *"
   ]
  },
  {
   "cell_type": "code",
   "execution_count": 5,
   "id": "9350ff52-aa8d-4648-95b4-8d760fdf293d",
   "metadata": {},
   "outputs": [],
   "source": [
    "#sparkSession:\n",
    "spark = (SparkSession.builder\n",
    "    .master(master = \"local\")\n",
    "    .appName(name = \"curso\")\n",
    "    .config(\"spark.some.config.option\", \"some-value\")\n",
    "    .getOrCreate())\n",
    "      \n",
    "spark.sparkContext.setLogLevel(\"ERROR\")"
   ]
  },
  {
   "cell_type": "markdown",
   "id": "5e32872e-883e-4b80-ad34-519a7c97d31d",
   "metadata": {},
   "source": [
    "#### Load nasa weblogs  as dataframe:"
   ]
  },
  {
   "cell_type": "code",
   "execution_count": 13,
   "id": "eeb906b9-cf31-4aba-9cd9-f0944fa7c18b",
   "metadata": {},
   "outputs": [],
   "source": [
    "weblogs = spark.read.option(\"sep\",\" \").option(\"header\",\"true\").option(\"inferSchema\",\"true\").csv(\"nasa_aug95.csv\")"
   ]
  },
  {
   "cell_type": "code",
   "execution_count": 14,
   "id": "c6afe20c-afa5-4e7f-b694-e08aff524a66",
   "metadata": {},
   "outputs": [
    {
     "name": "stdout",
     "output_type": "stream",
     "text": [
      "+--------------------+-------------------+--------------------+------+-------------+\n",
      "|     requesting_host|           datetime|             request|status|response_size|\n",
      "+--------------------+-------------------+--------------------+------+-------------+\n",
      "|   in24.inetnebr.com|1995-08-01 00:00:01|GET /shuttle/miss...|   200|         1839|\n",
      "|     uplherc.upl.com|1995-08-01 00:00:07|      GET / HTTP/1.0|   304|            0|\n",
      "|     uplherc.upl.com|1995-08-01 00:00:08|GET /images/ksclo...|   304|            0|\n",
      "|     uplherc.upl.com|1995-08-01 00:00:08|GET /images/MOSAI...|   304|            0|\n",
      "|     uplherc.upl.com|1995-08-01 00:00:08|GET /images/USA-l...|   304|            0|\n",
      "|ix-esc-ca2-07.ix....|1995-08-01 00:00:09|GET /images/launc...|   200|         1713|\n",
      "|     uplherc.upl.com|1995-08-01 00:00:10|GET /images/WORLD...|   304|            0|\n",
      "|slppp6.intermind.net|1995-08-01 00:00:10|GET /history/skyl...|   200|         1687|\n",
      "|piweba4y.prodigy.com|1995-08-01 00:00:10|GET /images/launc...|   200|        11853|\n",
      "|slppp6.intermind.net|1995-08-01 00:00:11|GET /history/skyl...|   200|         9202|\n",
      "|slppp6.intermind.net|1995-08-01 00:00:12|GET /images/ksclo...|   200|         3635|\n",
      "|ix-esc-ca2-07.ix....|1995-08-01 00:00:12|GET /history/apol...|   200|         1173|\n",
      "|slppp6.intermind.net|1995-08-01 00:00:13|GET /history/apol...|   200|         3047|\n",
      "|     uplherc.upl.com|1995-08-01 00:00:14|GET /images/NASA-...|   304|            0|\n",
      "|        133.43.96.45|1995-08-01 00:00:16|GET /shuttle/miss...|   200|        10566|\n",
      "|kgtyk4.kj.yamagat...|1995-08-01 00:00:17|      GET / HTTP/1.0|   200|         7280|\n",
      "|kgtyk4.kj.yamagat...|1995-08-01 00:00:18|GET /images/ksclo...|   200|         5866|\n",
      "|     d0ucr6.fnal.gov|1995-08-01 00:00:19|GET /history/apol...|   200|         2743|\n",
      "|ix-esc-ca2-07.ix....|1995-08-01 00:00:19|GET /shuttle/reso...|   200|         6849|\n",
      "|     d0ucr6.fnal.gov|1995-08-01 00:00:20|GET /history/apol...|   200|        14897|\n",
      "+--------------------+-------------------+--------------------+------+-------------+\n",
      "only showing top 20 rows\n",
      "\n"
     ]
    }
   ],
   "source": [
    "weblogs.show()"
   ]
  },
  {
   "cell_type": "code",
   "execution_count": 15,
   "id": "daf79264-8b74-4c41-9cbc-d82e505e2981",
   "metadata": {},
   "outputs": [
    {
     "name": "stdout",
     "output_type": "stream",
     "text": [
      "root\n",
      " |-- requesting_host: string (nullable = true)\n",
      " |-- datetime: timestamp (nullable = true)\n",
      " |-- request: string (nullable = true)\n",
      " |-- status: integer (nullable = true)\n",
      " |-- response_size: integer (nullable = true)\n",
      "\n"
     ]
    }
   ],
   "source": [
    "weblogs.printSchema()"
   ]
  },
  {
   "cell_type": "markdown",
   "id": "de00b856-34dc-43ff-84da-590ae2aa5bbc",
   "metadata": {},
   "source": [
    "#### List the different kinds of web protocols in the dataframe:"
   ]
  },
  {
   "cell_type": "code",
   "execution_count": 22,
   "id": "a2968a9b-4c35-40c6-88e4-79e6337e2f58",
   "metadata": {},
   "outputs": [],
   "source": [
    "protocols = (weblogs.withColumn(\"Protocol\",regexp_extract(col(\"request\"),\"\\s([A-Z]+/\\w*.\\d*)\",1))\n",
    "    .select(\"Protocol\").where(col(\"Protocol\").isNotNull()).distinct())"
   ]
  },
  {
   "cell_type": "code",
   "execution_count": 23,
   "id": "40820487-f66d-4363-bcc8-4cec4777e7dc",
   "metadata": {},
   "outputs": [
    {
     "name": "stdout",
     "output_type": "stream",
     "text": [
      "+---------+\n",
      "| Protocol|\n",
      "+---------+\n",
      "| HTML/1.0|\n",
      "|         |\n",
      "|HTTP/V1.0|\n",
      "| HTTP/1.0|\n",
      "+---------+\n",
      "\n"
     ]
    }
   ],
   "source": [
    "protocols.show()"
   ]
  },
  {
   "cell_type": "markdown",
   "id": "f8ad3f4c-9fa1-40ce-b1ad-bb92f17b1440",
   "metadata": {},
   "source": [
    "#### Count the ocurrences of the differents Status Codes:"
   ]
  },
  {
   "cell_type": "code",
   "execution_count": 24,
   "id": "712784aa-2c05-49a8-88a6-440e62c2e868",
   "metadata": {},
   "outputs": [],
   "source": [
    "status_count = weblogs.groupBy(\"status\").count().orderBy(desc(\"count\"))"
   ]
  },
  {
   "cell_type": "code",
   "execution_count": 25,
   "id": "28044a76-d6a3-4053-865f-68e7c918cbeb",
   "metadata": {},
   "outputs": [
    {
     "name": "stdout",
     "output_type": "stream",
     "text": [
      "+------+-------+\n",
      "|status|  count|\n",
      "+------+-------+\n",
      "|   200|1398988|\n",
      "|   304| 134146|\n",
      "|   302|  26497|\n",
      "|   404|  10054|\n",
      "|   403|    171|\n",
      "|   501|     27|\n",
      "|   500|      3|\n",
      "|   400|      2|\n",
      "+------+-------+\n",
      "\n"
     ]
    }
   ],
   "source": [
    "status_count.show()"
   ]
  },
  {
   "cell_type": "markdown",
   "id": "771ce406-39ff-4f48-b845-9c6188a3a8f9",
   "metadata": {},
   "source": [
    "#### Count the ocurrence of all the differents types of requests in the dataframe:"
   ]
  },
  {
   "cell_type": "code",
   "execution_count": 26,
   "id": "4565ee5f-d98d-4577-b9ed-792bf2600741",
   "metadata": {},
   "outputs": [],
   "source": [
    "request_count = weblogs.withColumn(\"request_type\",regexp_extract(col(\"request\"),\"(\\w*)\\s/\",1)).groupBy(\"request_type\").count().orderBy(desc(\"count\"))"
   ]
  },
  {
   "cell_type": "code",
   "execution_count": 27,
   "id": "c37fd027-0109-4e95-9cb3-fdfde343192b",
   "metadata": {},
   "outputs": [
    {
     "name": "stdout",
     "output_type": "stream",
     "text": [
      "+------------+-------+\n",
      "|request_type|  count|\n",
      "+------------+-------+\n",
      "|         GET|1565753|\n",
      "|        HEAD|   3965|\n",
      "|        POST|    111|\n",
      "|            |     59|\n",
      "+------------+-------+\n",
      "\n"
     ]
    }
   ],
   "source": [
    "request_count.show()"
   ]
  },
  {
   "cell_type": "markdown",
   "id": "2ba16f71-585a-411b-83df-02d952241c1e",
   "metadata": {},
   "source": [
    "#### Find the resource with the largest byte transfer:"
   ]
  },
  {
   "cell_type": "code",
   "execution_count": 29,
   "id": "94741464-fe20-4974-a3c1-4a54c0fccc56",
   "metadata": {},
   "outputs": [],
   "source": [
    "weblog_resource = weblogs.withColumn(\"resource\",regexp_extract(col(\"request\"),\"\\s/([\\S]*)\",1))"
   ]
  },
  {
   "cell_type": "code",
   "execution_count": 30,
   "id": "2793af07-e20e-4600-a0c7-c479e8723331",
   "metadata": {},
   "outputs": [
    {
     "name": "stdout",
     "output_type": "stream",
     "text": [
      "+--------------------+-------------------+--------------------+------+-------------+--------------------+\n",
      "|     requesting_host|           datetime|             request|status|response_size|            resource|\n",
      "+--------------------+-------------------+--------------------+------+-------------+--------------------+\n",
      "|   in24.inetnebr.com|1995-08-01 00:00:01|GET /shuttle/miss...|   200|         1839|shuttle/missions/...|\n",
      "|     uplherc.upl.com|1995-08-01 00:00:07|      GET / HTTP/1.0|   304|            0|                    |\n",
      "|     uplherc.upl.com|1995-08-01 00:00:08|GET /images/ksclo...|   304|            0|images/ksclogo-me...|\n",
      "|     uplherc.upl.com|1995-08-01 00:00:08|GET /images/MOSAI...|   304|            0|images/MOSAIC-log...|\n",
      "|     uplherc.upl.com|1995-08-01 00:00:08|GET /images/USA-l...|   304|            0|images/USA-logosm...|\n",
      "|ix-esc-ca2-07.ix....|1995-08-01 00:00:09|GET /images/launc...|   200|         1713|images/launch-log...|\n",
      "|     uplherc.upl.com|1995-08-01 00:00:10|GET /images/WORLD...|   304|            0|images/WORLD-logo...|\n",
      "|slppp6.intermind.net|1995-08-01 00:00:10|GET /history/skyl...|   200|         1687|history/skylab/sk...|\n",
      "|piweba4y.prodigy.com|1995-08-01 00:00:10|GET /images/launc...|   200|        11853|images/launchmedi...|\n",
      "|slppp6.intermind.net|1995-08-01 00:00:11|GET /history/skyl...|   200|         9202|history/skylab/sk...|\n",
      "|slppp6.intermind.net|1995-08-01 00:00:12|GET /images/ksclo...|   200|         3635|images/ksclogosma...|\n",
      "|ix-esc-ca2-07.ix....|1995-08-01 00:00:12|GET /history/apol...|   200|         1173|history/apollo/im...|\n",
      "|slppp6.intermind.net|1995-08-01 00:00:13|GET /history/apol...|   200|         3047|history/apollo/im...|\n",
      "|     uplherc.upl.com|1995-08-01 00:00:14|GET /images/NASA-...|   304|            0|images/NASA-logos...|\n",
      "|        133.43.96.45|1995-08-01 00:00:16|GET /shuttle/miss...|   200|        10566|shuttle/missions/...|\n",
      "|kgtyk4.kj.yamagat...|1995-08-01 00:00:17|      GET / HTTP/1.0|   200|         7280|                    |\n",
      "|kgtyk4.kj.yamagat...|1995-08-01 00:00:18|GET /images/ksclo...|   200|         5866|images/ksclogo-me...|\n",
      "|     d0ucr6.fnal.gov|1995-08-01 00:00:19|GET /history/apol...|   200|         2743|history/apollo/ap...|\n",
      "|ix-esc-ca2-07.ix....|1995-08-01 00:00:19|GET /shuttle/reso...|   200|         6849|shuttle/resources...|\n",
      "|     d0ucr6.fnal.gov|1995-08-01 00:00:20|GET /history/apol...|   200|        14897|history/apollo/ap...|\n",
      "+--------------------+-------------------+--------------------+------+-------------+--------------------+\n",
      "only showing top 20 rows\n",
      "\n"
     ]
    }
   ],
   "source": [
    "weblog_resource.show()"
   ]
  },
  {
   "cell_type": "code",
   "execution_count": 32,
   "id": "25adb389-81aa-46be-bc2b-9e79907c73c8",
   "metadata": {},
   "outputs": [],
   "source": [
    "largest_resource = weblog_resource.groupBy(\"resource\").max(\"response_size\").orderBy(desc(\"max(response_size)\")).limit(1)"
   ]
  },
  {
   "cell_type": "code",
   "execution_count": 33,
   "id": "69cc8848-2650-4715-88b4-e7d33b4ee757",
   "metadata": {},
   "outputs": [
    {
     "name": "stdout",
     "output_type": "stream",
     "text": [
      "+--------------------+------------------+\n",
      "|            resource|max(response_size)|\n",
      "+--------------------+------------------+\n",
      "|statistics/1995/J...|           3421948|\n",
      "+--------------------+------------------+\n",
      "\n"
     ]
    }
   ],
   "source": [
    "largest_resource.show()"
   ]
  },
  {
   "cell_type": "markdown",
   "id": "7a050e1a-de5d-4d37-8e03-88050f60342d",
   "metadata": {},
   "source": [
    "#### Most requested resource:"
   ]
  },
  {
   "cell_type": "code",
   "execution_count": 34,
   "id": "7a322112-a016-42bf-a414-196a50a8cfd6",
   "metadata": {},
   "outputs": [],
   "source": [
    "top_resource = weblog_resource.groupBy(\"resource\").count().orderBy(desc(\"count\")).limit(1)"
   ]
  },
  {
   "cell_type": "code",
   "execution_count": 35,
   "id": "60dcc9f0-df7f-4bbf-a27e-05224036b5db",
   "metadata": {},
   "outputs": [
    {
     "name": "stdout",
     "output_type": "stream",
     "text": [
      "+--------------------+-----+\n",
      "|            resource|count|\n",
      "+--------------------+-----+\n",
      "|images/NASA-logos...|97410|\n",
      "+--------------------+-----+\n",
      "\n"
     ]
    }
   ],
   "source": [
    "top_resource.show()"
   ]
  },
  {
   "cell_type": "markdown",
   "id": "83a60e34-7daf-4169-8cb4-19aca121433b",
   "metadata": {},
   "source": [
    "#### Day with most traffic:"
   ]
  },
  {
   "cell_type": "code",
   "execution_count": 36,
   "id": "af54bec8-1842-40ff-9bd9-60ec00af5d21",
   "metadata": {},
   "outputs": [],
   "source": [
    "bussiest_day = weblogs.withColumn(\"date\",to_date(\"datetime\")).groupBy(\"date\").count().orderBy(desc(\"count\")).limit(1)"
   ]
  },
  {
   "cell_type": "code",
   "execution_count": 37,
   "id": "b0f2c943-9594-47e7-8add-5818eb644095",
   "metadata": {},
   "outputs": [
    {
     "name": "stdout",
     "output_type": "stream",
     "text": [
      "+----------+-----+\n",
      "|      date|count|\n",
      "+----------+-----+\n",
      "|1995-08-31|90122|\n",
      "+----------+-----+\n",
      "\n"
     ]
    }
   ],
   "source": [
    "bussiest_day.show()"
   ]
  },
  {
   "cell_type": "markdown",
   "id": "faeef8d2-fe0d-46af-adc9-b53b642f3fcc",
   "metadata": {},
   "source": [
    "#### Most frequent host:"
   ]
  },
  {
   "cell_type": "code",
   "execution_count": 38,
   "id": "d99818f8-f803-4c5b-95be-047cab67fa1f",
   "metadata": {},
   "outputs": [],
   "source": [
    "top_host = weblogs.groupBy(\"requesting_host\").count().orderBy(desc(\"count\")).limit(1)"
   ]
  },
  {
   "cell_type": "code",
   "execution_count": 39,
   "id": "f9380ea8-c491-4b80-b182-7c6f1051cfca",
   "metadata": {},
   "outputs": [
    {
     "name": "stdout",
     "output_type": "stream",
     "text": [
      "+------------------+-----+\n",
      "|   requesting_host|count|\n",
      "+------------------+-----+\n",
      "|edams.ksc.nasa.gov| 6530|\n",
      "+------------------+-----+\n",
      "\n"
     ]
    }
   ],
   "source": [
    "top_host.show()"
   ]
  },
  {
   "cell_type": "markdown",
   "id": "8457d2fc-2ab9-4f32-a321-422c9f66f970",
   "metadata": {},
   "source": [
    "#### Hours with the most traffic:"
   ]
  },
  {
   "cell_type": "code",
   "execution_count": 40,
   "id": "77360777-04a1-4a35-a67a-1de6bfdc88f3",
   "metadata": {},
   "outputs": [],
   "source": [
    "hour_traffic = weblogs.withColumn(\"hour\",hour(\"datetime\")).groupBy(\"hour\").count().orderBy(desc(\"count\"))"
   ]
  },
  {
   "cell_type": "code",
   "execution_count": 41,
   "id": "bf94878d-cc2b-4cf6-9022-7d1b4a9650c1",
   "metadata": {},
   "outputs": [
    {
     "name": "stdout",
     "output_type": "stream",
     "text": [
      "+----+------+\n",
      "|hour| count|\n",
      "+----+------+\n",
      "|  15|109461|\n",
      "|  12|105143|\n",
      "|  13|104535|\n",
      "|  14|101393|\n",
      "|  16| 99527|\n",
      "|  11| 95340|\n",
      "|  10| 88309|\n",
      "|  17| 80834|\n",
      "|   9| 78695|\n",
      "|  18| 66809|\n",
      "|   8| 65443|\n",
      "|  22| 60673|\n",
      "|  20| 59944|\n",
      "|  19| 59315|\n",
      "|  21| 57985|\n",
      "|  23| 54570|\n",
      "|   0| 47862|\n",
      "|   7| 47386|\n",
      "|   1| 38531|\n",
      "|   2| 32508|\n",
      "+----+------+\n",
      "only showing top 20 rows\n",
      "\n"
     ]
    }
   ],
   "source": [
    "hour_traffic.show()"
   ]
  },
  {
   "cell_type": "markdown",
   "id": "336d4e18-3439-47a0-ac71-4b0d14c052de",
   "metadata": {},
   "source": [
    "#### Number of 404 erros each day:"
   ]
  },
  {
   "cell_type": "code",
   "execution_count": 42,
   "id": "844a719b-caf7-4682-91e7-48de6108819e",
   "metadata": {},
   "outputs": [],
   "source": [
    "error_day  = weblogs.where(col(\"status\") == 404).withColumn(\"date\",to_date(\"datetime\")).groupBy(\"date\").count().orderBy(desc(\"count\"))"
   ]
  },
  {
   "cell_type": "code",
   "execution_count": 43,
   "id": "77edce0e-1762-432c-ba30-5a2dc825cff4",
   "metadata": {},
   "outputs": [
    {
     "name": "stdout",
     "output_type": "stream",
     "text": [
      "+----------+-----+\n",
      "|      date|count|\n",
      "+----------+-----+\n",
      "|1995-08-30|  571|\n",
      "|1995-08-07|  537|\n",
      "|1995-08-31|  526|\n",
      "|1995-08-24|  420|\n",
      "|1995-08-29|  420|\n",
      "|1995-08-25|  415|\n",
      "|1995-08-28|  410|\n",
      "|1995-08-08|  391|\n",
      "|1995-08-06|  373|\n",
      "|1995-08-27|  370|\n",
      "|1995-08-26|  366|\n",
      "|1995-08-04|  346|\n",
      "|1995-08-23|  345|\n",
      "|1995-08-15|  327|\n",
      "|1995-08-10|  315|\n",
      "|1995-08-20|  312|\n",
      "|1995-08-21|  305|\n",
      "|1995-08-03|  303|\n",
      "|1995-08-22|  288|\n",
      "|1995-08-14|  287|\n",
      "+----------+-----+\n",
      "only showing top 20 rows\n",
      "\n"
     ]
    }
   ],
   "source": [
    "error_day.show()"
   ]
  },
  {
   "cell_type": "markdown",
   "id": "ec201d1d-4112-4484-ac44-f8f5b1beae10",
   "metadata": {},
   "source": []
  }
 ],
 "metadata": {
  "kernelspec": {
   "display_name": "Python 3 (ipykernel)",
   "language": "python",
   "name": "python3"
  },
  "language_info": {
   "codemirror_mode": {
    "name": "ipython",
    "version": 3
   },
   "file_extension": ".py",
   "mimetype": "text/x-python",
   "name": "python",
   "nbconvert_exporter": "python",
   "pygments_lexer": "ipython3",
   "version": "3.9.10"
  }
 },
 "nbformat": 4,
 "nbformat_minor": 5
}
